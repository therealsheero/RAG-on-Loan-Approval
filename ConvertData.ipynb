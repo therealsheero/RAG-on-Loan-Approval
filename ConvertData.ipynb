{
 "cells": [
  {
   "cell_type": "code",
   "execution_count": 1,
   "id": "14af831f",
   "metadata": {},
   "outputs": [],
   "source": [
    "import pandas as pd\n",
    "\n",
    "df = pd.read_csv(\"Training Dataset.csv\")\n",
    "\n",
    "def row_to_text(row):\n",
    "    def val(x, default=\"unknown\"):\n",
    "        return str(x) if pd.notna(x) else default\n",
    "\n",
    "    return (\n",
    "        f\"Loan ID: {val(row['Loan_ID'])}. \"\n",
    "        f\"The applicant is a {val(row['Gender'])}, \"\n",
    "        f\"{'married' if row['Married'] == 'Yes' else 'not married'}, \"\n",
    "        f\"with {val(row['Dependents'])} dependents. \"\n",
    "        f\"They are a {val(row['Education'])} and \"\n",
    "        f\"{'self-employed' if row['Self_Employed'] == 'Yes' else 'not self-employed'}. \"\n",
    "        f\"Applicant income is ₹{val(row['ApplicantIncome'])}, \"\n",
    "        f\"co-applicant income is ₹{val(row['CoapplicantIncome'])}. \"\n",
    "        f\"Loan amount is ₹{val(row['LoanAmount'], 'not specified')}. \"\n",
    "        f\"Loan term is {val(row['Loan_Amount_Term'], 'not mentioned')} months. \"\n",
    "        f\"Credit history is {val(row['Credit_History'], 'unknown')}. \"\n",
    "        f\"Property area is {val(row['Property_Area'])}. \"\n",
    "        f\"Loan was {'approved' if row['Loan_Status'] == 'Y' else 'rejected'}.\"\n",
    "    )\n",
    "\n",
    "texts = [row_to_text(row) for _, row in df.iterrows()]\n"
   ]
  },
  {
   "cell_type": "code",
   "execution_count": 2,
   "id": "a9baaadd",
   "metadata": {},
   "outputs": [],
   "source": [
    "with open(\"loan_data_rag_ready.txt\", \"w\", encoding=\"utf-8\") as f:\n",
    "    for line in texts:\n",
    "        f.write(line + \"\\n\")\n"
   ]
  },
  {
   "cell_type": "code",
   "execution_count": null,
   "id": "edb18cff",
   "metadata": {},
   "outputs": [],
   "source": []
  }
 ],
 "metadata": {
  "kernelspec": {
   "display_name": "Python 3",
   "language": "python",
   "name": "python3"
  },
  "language_info": {
   "codemirror_mode": {
    "name": "ipython",
    "version": 3
   },
   "file_extension": ".py",
   "mimetype": "text/x-python",
   "name": "python",
   "nbconvert_exporter": "python",
   "pygments_lexer": "ipython3",
   "version": "3.12.3"
  }
 },
 "nbformat": 4,
 "nbformat_minor": 5
}
